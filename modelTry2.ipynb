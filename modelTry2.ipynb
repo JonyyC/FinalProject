{
 "cells": [
  {
   "cell_type": "code",
   "execution_count": 1,
   "metadata": {},
   "outputs": [],
   "source": [
    "import spacy\n",
    "\n",
    "# Load SpaCy's English language model\n",
    "nlp = spacy.load(\"en_core_web_sm\")"
   ]
  },
  {
   "cell_type": "code",
   "execution_count": 2,
   "metadata": {},
   "outputs": [
    {
     "name": "stderr",
     "output_type": "stream",
     "text": [
      "c:\\jonatan\\Academy\\Final Project\\models\\.venv\\Lib\\site-packages\\tqdm\\auto.py:21: TqdmWarning: IProgress not found. Please update jupyter and ipywidgets. See https://ipywidgets.readthedocs.io/en/stable/user_install.html\n",
      "  from .autonotebook import tqdm as notebook_tqdm\n"
     ]
    }
   ],
   "source": [
    "from nltk.corpus import wordnet\n",
    "import re\n",
    "from transformers import pipeline\n",
    "from sentence_transformers import SentenceTransformer, util\n",
    "from transformers import T5Tokenizer, T5ForConditionalGeneration, Trainer, TrainingArguments\n",
    "import torch\n",
    "import pandas as pd\n"
   ]
  },
  {
   "cell_type": "code",
   "execution_count": null,
   "metadata": {},
   "outputs": [],
   "source": [
    "import re\n",
    "from collections import defaultdict\n",
    "\n",
    "# Function to detect sections based on common cues\n",
    "def break_into_sections(article_text):\n",
    "    # Define patterns for section identification\n",
    "    section_patterns = {\n",
    "        \"Introduction/Background\": [\n",
    "            r\"\\b(Introduction|Background)\\b\",\n",
    "            r\"(important|significant role|little is known|crucial for|aim of this study)\"\n",
    "        ],\n",
    "        \"Methods\": [\n",
    "            r\"\\b(Methods|Materials and Methods|Experimental Setup|Protocol)\\b\",\n",
    "            r\"(we treated|we measured|used to|step-by-step|procedure|performed)\"\n",
    "        ],\n",
    "        \"Results/Findings\": [\n",
    "            r\"\\b(Results|Findings|Data)\\b\",\n",
    "            r\"(we observed|shows that|resulted in|analysis of|as shown in|Figure \\d)\"\n",
    "        ],\n",
    "        \"Discussion/Conclusion\": [\n",
    "            r\"\\b(Discussion|Conclusion|Summary)\\b\",\n",
    "            r\"(these findings|suggests that|future work|implications|this highlights|broader context)\"\n",
    "        ]\n",
    "    }\n",
    "\n",
    "    # Split the article into paragraphs\n",
    "    paragraphs = article_text.split(\"\\n\")\n",
    "\n",
    "    # Create a dictionary to store sections\n",
    "    sections = defaultdict(list)\n",
    "\n",
    "    # Classify each paragraph based on the section patterns\n",
    "    for paragraph in paragraphs:\n",
    "        classified = False\n",
    "        for section, patterns in section_patterns.items():\n",
    "            for pattern in patterns:\n",
    "                if re.search(pattern, paragraph, re.IGNORECASE):\n",
    "                    sections[section].append(paragraph.strip())\n",
    "                    classified = True\n",
    "                    break\n",
    "            if classified:\n",
    "                break\n",
    "        if not classified:\n",
    "            sections[\"Unclassified\"].append(paragraph.strip())\n",
    "\n",
    "    return sections\n",
    "\n",
    "# Example usage\n",
    "article_text = \"\"\"\n",
    "Introduction\n",
    "Retinoic acid (RA) plays a significant role in development. However, its impact on kidney segmentation remains unclear.\n",
    "\n",
    "Methods\n",
    "Embryos were treated with varying concentrations of RA to assess dose-dependent effects. We measured kidney segments using fluorescence microscopy.\n",
    "\n",
    "Results\n",
    "RA treatment resulted in fewer kidney segments, while cdx mutations led to patterning defects. Figure 2 shows the data supporting this observation.\n",
    "\n",
    "Discussion\n",
    "These results highlight the interplay between RA signaling and cdx genes in kidney development. This suggests potential pathways for further investigation.\n",
    "\"\"\"\n",
    "\n",
    "sections = break_into_sections(article_text)\n",
    "\n",
    "# Display the output\n",
    "for section, content in sections.items():\n",
    "    print(f\"\\n=== {section} ===\")\n",
    "    print(\"\\n\".join(content))"
   ]
  },
  {
   "cell_type": "code",
   "execution_count": 3,
   "metadata": {},
   "outputs": [],
   "source": [
    "from datasets import load_dataset\n",
    "\n",
    "ds1 = load_dataset(\"bogdancazan/wikilarge-text-simplification\") \n",
    "ds2 = load_dataset(\"rahular/simple-wikipedia\")\n",
    "ds3 = load_dataset(\"dongqi-me/SciNews\")\n",
    "ds4 = load_dataset(\"pszemraj/scientific_lay_summarisation-plos-norm\")"
   ]
  },
  {
   "cell_type": "code",
   "execution_count": 4,
   "metadata": {},
   "outputs": [],
   "source": [
    "# Convert to Pandas DataFrames (assuming the default split is 'train')\n",
    "df1 = ds1['train'].to_pandas()\n",
    "df2 = ds2['train'].to_pandas()\n",
    "df3 = ds3['train'].to_pandas()\n",
    "df4 = ds4['train'].to_pandas()\n"
   ]
  },
  {
   "cell_type": "code",
   "execution_count": 5,
   "metadata": {},
   "outputs": [],
   "source": [
    "def clean_text(text):\n",
    "    \"\"\"\n",
    "    Cleans the input text by removing unwanted symbols and normalizing formatting.\n",
    "    \"\"\"\n",
    "    # Remove unwanted symbols like brackets, special characters\n",
    "    text = text.replace(\"‘\",\"'\")\n",
    "    text = re.sub(r\"\\[.*?\\]\", \"\", text)  # Matches [anything inside]\n",
    "    text = re.sub(r\"\\{.*?\\}\", \"\", text)  # Matches {anything inside}\n",
    "    # Remove unwanted hyphens (not between two words)\n",
    "    text = re.sub(r\"(?<!\\w)-|-(?!\\w)\", \"\", text)  # Removes '-' unless between two word characters\n",
    "    \n",
    "    text = re.sub(r\"(?<!\\d)%\", \"\", text)  # Remove standalone %\n",
    "    \n",
    "    text = re.sub(r\"[^\\w\\s.,!?;:%'()]\", \"\", text)  # Keep alphanumeric, punctuation, and parentheses\n",
    "    \n",
    "    \n",
    "    \n",
    "    # Remove any brackets  () with 'Figure' inside\n",
    "    text = re.sub(r\"\\(\\s*Figure.*?\\)\", \"\", text, flags=re.IGNORECASE)  # Matches (Figure ...)\n",
    "\n",
    "    # Remove any brackets () with 'Table' inside\n",
    "    text = re.sub(r\"\\(\\s*Table.*?\\)\", \"\", text, flags=re.IGNORECASE)  # Matches (Table ...)\n",
    "    \n",
    "    # Remove spaces before dots (e.g., \"word .\") \n",
    "    text = re.sub(r\"\\s+\\.\", \".\", text)\n",
    "    \n",
    "    text = re.sub(r\"\\s+\", \" \", text)  # Replace multiple spaces with a single space\n",
    "    return text.strip()\n",
    "\n",
    "# Apply cleaning to both 'source' and 'target' columns\n",
    "def preprocess_cleaning(examples):\n",
    "    examples[\"article\"] = [clean_text(text) for text in examples[\"article\"]]\n",
    "    return examples\n",
    "# Clean the dataset\n",
    "cleaned_dataset = ds4.map(preprocess_cleaning, batched=True)"
   ]
  },
  {
   "cell_type": "code",
   "execution_count": 6,
   "metadata": {},
   "outputs": [
    {
     "name": "stdout",
     "output_type": "stream",
     "text": [
      "{'article': 'One of the most powerful techniques for studying the function of a gene is to disrupt the expression of that gene using genetic engineering strategies such as targeted recombination or viral integration of gene trap cassettes. The tremendous utility of these tools was recognized this year with the awarding of the Nobel Prize in Physiology or Medicine to Capecchi, Evans, and Smithies for their pioneering work in targeted recombination mutagenesis in mammals. Another noteworthy discovery made nearly a decade ago was the identification of a novel class of non-coding genes called microRNAs. MicroRNAs are among the largest known classes of regulatory elements with more than 1000 predicted to exist in the mouse genome. Over 50% of known microRNAs are located within introns of coding genes. Given that currently about half of the genes in mouse have been knocked out, we investigated the possibility that intronic microRNAs may have been coincidentally deleted or disrupted in some of these mouse models. We searched published murine knockout studies and gene trap embryonic stem cell line databases for cases where a microRNA was located within or near the manipulated genomic loci, finding almost 200 cases where microRNA expression may have been disrupted along with another gene. Our results draw attention to the need for careful planning in future knockout studies to minimize the unintentional disruption of microRNAs. These data also raise the possibility that many knockout studies may need to be reexamined to determine if loss of a microRNA contributes to the phenotypic consequences attributed to loss of a protein-encoding gene.\\nIn the mouse, stable disruption of a gene is typically accomplished using gene trap mutagenesis or targeted homologous recombination. We wish to communicate the overlooked possibility of unintentionally disrupting microRNA (miRNA) genes along with a targeted gene. Because miRNAs play key roles in many cellular processes, the unintended ablation of these species may have significant consequences that complicate the interpretation of gene knockout studies.\\nGiven that many miRNAs are located within introns of longer coding transcripts, we reasoned that a gene trap disrupting a host gene could also alter miRNA expression in one of two ways. The trapping cassette could either ablate miRNA expression with a terminal polyadenylation sequence (Figure 1A) or overexpress an miRNA via an internal promoter (Figure 1B). To determine the potential extent of these unintended changes in miRNA expression, we compared the genomic position all mouse gene traps listed in the International Gene Trap Consortium (IGTC) [1] to the loci of 367 annotated mouse miRNA genes as well as candidate miRNA genes computationally identified by Berezikov et al. , 28% of which have been validated to date [2,3]. In the cases where an miRNA was located within an intron of a host gene, we identified any gene traps which inserted within the host gene transcript and upstream of the miRNA. Using the same set of annotated and candidate miRNAs, we next identified all protein-coding genes with an miRNA located within the transcribed loci, in either the sense or the antisense orientation. We cross-referenced these genes with all homologous recombination studies listed in the Mouse Genome Informatics (MGI) database (v. 3. 54) [4] to assemble a list of studies where the miRNA and coding gene were potentially co-ablated (Table S1). The boundaries of the deleted loci were bioinformatically verified for each study.\\nOur analysis of the IGTC database revealed 98 annotated or candidate miRNAs potentially misregulated in 420 gene trap cell lines (Table S2). A study of the slit3 gene [5] is an example of a potential unintended double-knockout scenario produced from a gene trap cell line. To ablate slit3, the authors used a trap located upstream of exon 6, which produced a truncated slit3 mRNA. Mir-218–2 is located within intron 14 of slit3, and the potential loss of mir-218–2 expression may contribute to the phenotype resulting from the loss of functional slit3. The analysis of the MGI database yielded a small but significant number of studies where miRNAs may have been unintentionally disrupted (Table S1). In addition to 20 studies where an annotated or candidate miRNA was completely ablated by the targeting strategy (Figure 1C), there were also numerous studies describing the deletion of regions immediately upstream (78 cases) or downstream (55 cases) of a miRNA (Figure 1D), or in the promoter of the host gene (4 cases). MiRNAs have been shown to be transcribed in conjunction with a host transcript or from an independent promoter [6]. Therefore, the disruption of host promoters or of regions adjacent to miRNAs may compromise promoter and/or enhancer sites for these miRNAs. While 71 of the studies in our analysis were published prior to the expansion of the miRNA field in 2002, the fact that 90 were published since may indicate that miRNAs in targeted loci continue to be overlooked. To avoid inadvertent double-knockout scenarios, we wish to alert investigators to consider non-coding elements in the locus to be deleted. Because not all non-coding elements have been annotated, it may be preferable to employ methods that minimize the deletion of endogenous DNA. We also wish to raise the interesting possibility that a number of studies may need to be reevaluated to dissociate the consequences of ablating an miRNA from the consequences of ablating the targeted gene.', 'summary': 'To determine the function of a gene, it is often informative to first disrupt the expression of that gene through targeted recombination or the insertion of gene trap cassettes. In our study, we point out that these approaches may be confounded by the presence of small non-coding elements known as microRNAs. MicroRNAs constitute one of the largest classes of regulatory elements, and over 50% of known microRNAs have been identified within an intron of a coding gene. Disruption of a gene could therefore also result in the disruption of microRNAs in the region. In this study, we searched databases of gene-trapped cell lines as well as previously published knockout studies and report almost 200 examples where microRNA expression may have been unintentionally disrupted. Our results are of broad interest and importance because they raise the possibility that a number of protein function studies may need to be reexamined to determine whether the loss of a microRNA may have contributed to the phenotype previously attributed to the loss of a protein.', 'section_headings': 'Abstract\\nIntroduction\\nMethods\\nResults/Discussion', 'keywords': 'vertebrates\\nplants\\neukaryotes\\ncomputational biology', 'year': '2008', 'title': 'Unintentional miRNA Ablation Is a Risk Factor in Gene Knockout Studies: A Short Report', 'article_length': 1278, 'summary_length': 228}\n",
      "{'article': 'One of the most powerful techniques for studying the function of a gene is to disrupt the expression of that gene using genetic engineering strategies such as targeted recombination or viral integration of gene trap cassettes. The tremendous utility of these tools was recognized this year with the awarding of the Nobel Prize in Physiology or Medicine to Capecchi, Evans, and Smithies for their pioneering work in targeted recombination mutagenesis in mammals. Another noteworthy discovery made nearly a decade ago was the identification of a novel class of noncoding genes called microRNAs. MicroRNAs are among the largest known classes of regulatory elements with more than 1000 predicted to exist in the mouse genome. Over 50% of known microRNAs are located within introns of coding genes. Given that currently about half of the genes in mouse have been knocked out, we investigated the possibility that intronic microRNAs may have been coincidentally deleted or disrupted in some of these mouse models. We searched published murine knockout studies and gene trap embryonic stem cell line databases for cases where a microRNA was located within or near the manipulated genomic loci, finding almost 200 cases where microRNA expression may have been disrupted along with another gene. Our results draw attention to the need for careful planning in future knockout studies to minimize the unintentional disruption of microRNAs. These data also raise the possibility that many knockout studies may need to be reexamined to determine if loss of a microRNA contributes to the phenotypic consequences attributed to loss of a proteinencoding gene. In the mouse, stable disruption of a gene is typically accomplished using gene trap mutagenesis or targeted homologous recombination. We wish to communicate the overlooked possibility of unintentionally disrupting microRNA (miRNA) genes along with a targeted gene. Because miRNAs play key roles in many cellular processes, the unintended ablation of these species may have significant consequences that complicate the interpretation of gene knockout studies. Given that many miRNAs are located within introns of longer coding transcripts, we reasoned that a gene trap disrupting a host gene could also alter miRNA expression in one of two ways. The trapping cassette could either ablate miRNA expression with a terminal polyadenylation sequence or overexpress an miRNA via an internal promoter. To determine the potential extent of these unintended changes in miRNA expression, we compared the genomic position all mouse gene traps listed in the International Gene Trap Consortium (IGTC) to the loci of 367 annotated mouse miRNA genes as well as candidate miRNA genes computationally identified by Berezikov et al. , 28% of which have been validated to date. In the cases where an miRNA was located within an intron of a host gene, we identified any gene traps which inserted within the host gene transcript and upstream of the miRNA. Using the same set of annotated and candidate miRNAs, we next identified all proteincoding genes with an miRNA located within the transcribed loci, in either the sense or the antisense orientation. We crossreferenced these genes with all homologous recombination studies listed in the Mouse Genome Informatics (MGI) database (v. 3. 54) to assemble a list of studies where the miRNA and coding gene were potentially coablated. The boundaries of the deleted loci were bioinformatically verified for each study. Our analysis of the IGTC database revealed 98 annotated or candidate miRNAs potentially misregulated in 420 gene trap cell lines. A study of the slit3 gene is an example of a potential unintended doubleknockout scenario produced from a gene trap cell line. To ablate slit3, the authors used a trap located upstream of exon 6, which produced a truncated slit3 mRNA. Mir2182 is located within intron 14 of slit3, and the potential loss of mir2182 expression may contribute to the phenotype resulting from the loss of functional slit3. The analysis of the MGI database yielded a small but significant number of studies where miRNAs may have been unintentionally disrupted. In addition to 20 studies where an annotated or candidate miRNA was completely ablated by the targeting strategy , there were also numerous studies describing the deletion of regions immediately upstream (78 cases) or downstream (55 cases) of a miRNA , or in the promoter of the host gene (4 cases). MiRNAs have been shown to be transcribed in conjunction with a host transcript or from an independent promoter. Therefore, the disruption of host promoters or of regions adjacent to miRNAs may compromise promoter andor enhancer sites for these miRNAs. While 71 of the studies in our analysis were published prior to the expansion of the miRNA field in 2002, the fact that 90 were published since may indicate that miRNAs in targeted loci continue to be overlooked. To avoid inadvertent doubleknockout scenarios, we wish to alert investigators to consider noncoding elements in the locus to be deleted. Because not all noncoding elements have been annotated, it may be preferable to employ methods that minimize the deletion of endogenous DNA. We also wish to raise the interesting possibility that a number of studies may need to be reevaluated to dissociate the consequences of ablating an miRNA from the consequences of ablating the targeted gene.', 'summary': 'To determine the function of a gene, it is often informative to first disrupt the expression of that gene through targeted recombination or the insertion of gene trap cassettes. In our study, we point out that these approaches may be confounded by the presence of small non-coding elements known as microRNAs. MicroRNAs constitute one of the largest classes of regulatory elements, and over 50% of known microRNAs have been identified within an intron of a coding gene. Disruption of a gene could therefore also result in the disruption of microRNAs in the region. In this study, we searched databases of gene-trapped cell lines as well as previously published knockout studies and report almost 200 examples where microRNA expression may have been unintentionally disrupted. Our results are of broad interest and importance because they raise the possibility that a number of protein function studies may need to be reexamined to determine whether the loss of a microRNA may have contributed to the phenotype previously attributed to the loss of a protein.', 'section_headings': 'Abstract\\nIntroduction\\nMethods\\nResults/Discussion', 'keywords': 'vertebrates\\nplants\\neukaryotes\\ncomputational biology', 'year': '2008', 'title': 'Unintentional miRNA Ablation Is a Risk Factor in Gene Knockout Studies: A Short Report', 'article_length': 1278, 'summary_length': 228}\n"
     ]
    }
   ],
   "source": [
    "# Check the first cleaned example\n",
    "print(ds4[\"train\"][14737])\n",
    "print(cleaned_dataset[\"train\"][14737])"
   ]
  },
  {
   "cell_type": "code",
   "execution_count": 52,
   "metadata": {},
   "outputs": [
    {
     "name": "stdout",
     "output_type": "stream",
     "text": [
      "Index(['Normal', 'Simple'], dtype='object')\n",
      "Index(['text'], dtype='object')\n",
      "Index(['Topic', 'News_Title', 'Citation', 'Paper_URL', 'News_URL',\n",
      "       'Paper_Body', 'News_Body', 'DOI'],\n",
      "      dtype='object')\n",
      "Index(['article', 'summary', 'section_headings', 'keywords', 'year', 'title',\n",
      "       'article_length', 'summary_length'],\n",
      "      dtype='object')\n"
     ]
    }
   ],
   "source": [
    "print(df1.columns)\n",
    "print(df2.columns)\n",
    "print(df3.columns)\n",
    "print(df4.columns)"
   ]
  },
  {
   "cell_type": "code",
   "execution_count": null,
   "metadata": {},
   "outputs": [],
   "source": [
    "import nltk\n",
    "from nltk.tokenize import sent_tokenize, word_tokenize\n",
    "from transformers import AutoTokenizer, AutoModelForSeq2SeqLM\n",
    "import openai\n",
    "\n",
    "# Download NLTK resources\n",
    "nltk.download('punkt')\n",
    "nltk.download('wordnet')\n",
    "\n",
    "# Set your OpenAI API key (if using GPT)\n",
    "openai.api_key = \"your_openai_api_key\"\n",
    "\n",
    "# Step 1: Tokenize the Text\n",
    "def tokenize_text(text):\n",
    "    sentences = sent_tokenize(text)\n",
    "    tokenized_sentences = [word_tokenize(sentence) for sentence in sentences]\n",
    "    return sentences, tokenized_sentences\n",
    "\n",
    "# Step 2: Simplify Words Using Context (Word Simplification)\n",
    "def simplify_words(sentences):\n",
    "    simplified_sentences = []\n",
    "    \n",
    "    # Load a Hugging Face model for word-level simplifications (e.g., T5)\n",
    "    tokenizer = AutoTokenizer.from_pretrained(\"t5-small\")\n",
    "    model = AutoModelForSeq2SeqLM.from_pretrained(\"t5-small\")\n",
    "    \n",
    "    for sentence in sentences:\n",
    "        inputs = tokenizer(f\"Simplify: {sentence}\", return_tensors=\"pt\", max_length=512, truncation=True)\n",
    "        outputs = model.generate(inputs.input_ids, max_length=512, num_beams=5, early_stopping=True)\n",
    "        simplified_sentence = tokenizer.decode(outputs[0], skip_special_tokens=True)\n",
    "        simplified_sentences.append(simplified_sentence)\n",
    "    \n",
    "    return simplified_sentences\n",
    "\n",
    "# Step 3: Simplify Sentences Using a Model Trained on a Good Dataset\n",
    "def simplify_sentences(sentences):\n",
    "    # Load a pre-trained model fine-tuned for sentence simplification\n",
    "    tokenizer = AutoTokenizer.from_pretrained(\"google/flan-t5-small\")\n",
    "    model = AutoModelForSeq2SeqLM.from_pretrained(\"google/flan-t5-small\")\n",
    "    \n",
    "    simplified_sentences = []\n",
    "    for sentence in sentences:\n",
    "        inputs = tokenizer(f\"Simplify this sentence: {sentence}\", return_tensors=\"pt\", max_length=512, truncation=True)\n",
    "        outputs = model.generate(inputs.input_ids, max_length=512, num_beams=5, early_stopping=True)\n",
    "        simplified_sentence = tokenizer.decode(outputs[0], skip_special_tokens=True)\n",
    "        simplified_sentences.append(simplified_sentence)\n",
    "    \n",
    "    return simplified_sentences\n",
    "\n",
    "# Step 4: Simplify the Entire Text Using SimpleWiki and SciNews Dataset\n",
    "def simplify_text_with_gpt(sentences):\n",
    "    simplified_paragraphs = []\n",
    "    \n",
    "    for sentence in sentences:\n",
    "        # GPT prompt for further simplification\n",
    "        prompt = (\n",
    "            f\"Here is a scientific sentence: \\\"{sentence}\\\". \"\n",
    "            \"Rewrite it as if explaining to a non-expert audience, keeping it simple and engaging.\"\n",
    "        )\n",
    "        \n",
    "        response = openai.ChatCompletion.create(\n",
    "            model=\"gpt-4\",\n",
    "            messages=[\n",
    "                {\"role\": \"system\", \"content\": \"You are an expert at simplifying scientific content.\"},\n",
    "                {\"role\": \"user\", \"content\": prompt},\n",
    "            ],\n",
    "            max_tokens=150,\n",
    "        )\n",
    "        simplified_text = response['choices'][0]['message']['content'].strip()\n",
    "        simplified_paragraphs.append(simplified_text)\n",
    "    \n",
    "    return \" \".join(simplified_paragraphs)\n",
    "\n",
    "# Main Pipeline\n",
    "def simplify_scientific_article(article_text):\n",
    "    # Step 1: Tokenize text into sentences and words\n",
    "    sentences, _ = tokenize_text(article_text)\n",
    "    \n",
    "    # Step 2: Simplify words based on context\n",
    "    word_simplified_sentences = simplify_words(sentences)\n",
    "    \n",
    "    # Step 3: Simplify sentences using a good model\n",
    "    sentence_simplified_sentences = simplify_sentences(word_simplified_sentences)\n",
    "    \n",
    "    # Step 4: Simplify the entire text for non-expert audiences using GPT-4\n",
    "    final_simplified_text = simplify_text_with_gpt(sentence_simplified_sentences)\n",
    "    \n",
    "    return final_simplified_text\n",
    "\n",
    "# Example Usage\n",
    "if __name__ == \"__main__\":\n",
    "    # Input scientific article text\n",
    "    scientific_text = \"\"\"\n",
    "    The experiment demonstrates that utilizing a controlled magnetic field can enhance the efficiency of ion propulsion in spacecraft, achieving velocities previously unattainable. \n",
    "    This novel approach may revolutionize interplanetary travel by significantly reducing fuel requirements.\n",
    "    \"\"\"\n",
    "    \n",
    "    # Simplify the article\n",
    "    simplified_article = simplify_scientific_article(scientific_text)\n",
    "    print(\"Simplified Article:\\n\", simplified_article)\n"
   ]
  },
  {
   "cell_type": "code",
   "execution_count": 29,
   "metadata": {},
   "outputs": [
    {
     "name": "stderr",
     "output_type": "stream",
     "text": [
      "[nltk_data] Downloading package punkt to\n",
      "[nltk_data]     C:\\Users\\USER\\AppData\\Roaming\\nltk_data...\n",
      "[nltk_data]   Package punkt is already up-to-date!\n",
      "[nltk_data] Downloading package wordnet to\n",
      "[nltk_data]     C:\\Users\\USER\\AppData\\Roaming\\nltk_data...\n",
      "[nltk_data]   Package wordnet is already up-to-date!\n",
      "[nltk_data] Downloading package punkt_tab to\n",
      "[nltk_data]     C:\\Users\\USER\\AppData\\Roaming\\nltk_data...\n",
      "[nltk_data]   Package punkt_tab is already up-to-date!\n"
     ]
    },
    {
     "data": {
      "text/plain": [
       "True"
      ]
     },
     "execution_count": 29,
     "metadata": {},
     "output_type": "execute_result"
    }
   ],
   "source": [
    "import nltk\n",
    "from nltk.tokenize import sent_tokenize, word_tokenize\n",
    "from transformers import AutoTokenizer, AutoModelForSeq2SeqLM\n",
    "\n",
    "# Download NLTK resources\n",
    "nltk.download('punkt')\n",
    "nltk.download('wordnet')\n",
    "nltk.download('punkt_tab')"
   ]
  },
  {
   "cell_type": "code",
   "execution_count": 8,
   "metadata": {},
   "outputs": [],
   "source": [
    "# import for metrics\n",
    "\n",
    "import sacrebleu\n",
    "from easse.sari import corpus_sari\n",
    "# Needs jve to use.\n",
    "import language_tool_python\n",
    "tool = language_tool_python.LanguageTool('en-US')\n",
    "# alternative:\n",
    "import textstat\n",
    "\n",
    "from bert_score import score\n",
    "\n",
    "from rouge_score import rouge_scorer"
   ]
  },
  {
   "cell_type": "markdown",
   "metadata": {},
   "source": [
    "Longer sequences\n",
    "With Transformer models, there is a limit to the lengths of the sequences we can pass the models. Most models handle sequences of up to 512 or 1024 tokens, and will crash when asked to process longer sequences. There are two solutions to this problem:\n",
    "\n",
    "Use a model with a longer supported sequence length.\n",
    "Truncate your sequences.\n",
    "Models have different supported sequence lengths, and some specialize in handling very long sequences. Longformer is one example, and another is LED. If you’re working on a task that requires very long sequences, we recommend you take a look at those models.\n",
    "\n",
    "Otherwise, we recommend you truncate your sequences by specifying the max_sequence_length parameter:\n",
    "\n",
    "Copied\n",
    "sequence = sequence[:max_sequence_length]"
   ]
  },
  {
   "cell_type": "code",
   "execution_count": null,
   "metadata": {},
   "outputs": [
    {
     "name": "stderr",
     "output_type": "stream",
     "text": [
      "Map:   0%|          | 0/24773 [00:00<?, ? examples/s]"
     ]
    }
   ],
   "source": [
    "from transformers import AutoTokenizer\n",
    "def tokenize_function(example):\n",
    "    return tokenizer(\n",
    "        example[\"article\"], \n",
    "        example[\"summary\"], \n",
    "        truncation=True,\n",
    "        max_length=10000,\n",
    "        padding=\"max_length\"\n",
    "        )\n",
    "\n",
    "checkpoint = \"google/long-t5-tglobal-base\"\n",
    "tokenizer = AutoTokenizer.from_pretrained(checkpoint)\n",
    "tokenized_datasets = cleaned_dataset.map(tokenize_function, batched=True)\n",
    "\n",
    "tokenized_datasets\n"
   ]
  },
  {
   "cell_type": "code",
   "execution_count": null,
   "metadata": {},
   "outputs": [],
   "source": [
    "tokenized_datasets = tokenized_datasets.remove_columns(['article', 'summary', 'section_headings', 'keywords', 'year', 'title','article_length', 'summary_length'])\n",
    "tokenized_datasets"
   ]
  },
  {
   "cell_type": "code",
   "execution_count": null,
   "metadata": {},
   "outputs": [],
   "source": [
    "from transformers import Trainer, TrainingArguments\n",
    "model = AutoModelForSeq2SeqLM.from_pretrained(\"google/long-t5-tglobal-base\")\n",
    "training_args = TrainingArguments(\n",
    "    output_dir=\"./results\",\n",
    "    eval_strategy=\"epoch\",\n",
    "    learning_rate=2e-5,\n",
    "    per_device_train_batch_size=4,\n",
    "    num_train_epochs=3,\n",
    "    weight_decay=0.01,\n",
    "    save_total_limit=2,\n",
    "    \n",
    ")\n",
    "\n",
    "trainer = Trainer(\n",
    "    model=model,\n",
    "    args=training_args,\n",
    "    train_dataset=tokenized_datasets[\"train\"],\n",
    "    eval_dataset=tokenized_datasets[\"validation\"],\n",
    ")\n",
    "\n",
    "# Fine-tune the model\n",
    "trainer.train()"
   ]
  },
  {
   "cell_type": "code",
   "execution_count": 28,
   "metadata": {},
   "outputs": [],
   "source": [
    "# # Set your OpenAI API key (if using GPT)\n",
    "# openai.api_key = \"your_openai_api_key\"\n",
    "\n",
    "# Step 1: Tokenize the Text\n",
    "def tokenize_text(text):\n",
    "    sentences = sent_tokenize(text)\n",
    "    sentences = [sentence.replace(\"\\n\",\"\") for sentence in sentences]\n",
    "    tokenized_sentences = [word_tokenize(sentence) for sentence in sentences]\n",
    "    \n",
    "    return sentences, tokenized_sentences\n",
    "\n",
    "# Step 2: Simplify Words Using Context (Word Simplification)\n",
    "def simplify_words(sentences):\n",
    "    simplified_sentences = []\n",
    "    \n",
    "    # Load a Hugging Face model for word-level simplifications (e.g., T5)\n",
    "    tokenizer = AutoTokenizer.from_pretrained(\"google/flan-t5-large\")\n",
    "    model = AutoModelForSeq2SeqLM.from_pretrained(\"google/flan-t5-large\")\n",
    "\n",
    "    for sentence in sentences:\n",
    "        inputs = tokenizer(f\"Simplify words: {sentence}\", return_tensors=\"pt\", max_length=256, truncation=True)\n",
    "        outputs = model.generate(inputs.input_ids, max_length=128, num_beams=5, early_stopping=True)\n",
    "        \n",
    "        simplified_sentence = tokenizer.decode(outputs[0], skip_special_tokens=True)\n",
    "        simplified_sentences.append(simplified_sentence)\n",
    "    \n",
    "    return simplified_sentences\n",
    "\n",
    "# Step 3: Simplify Sentences Using a Model Trained on a Good Dataset\n",
    "def simplify_sentences(sentences):\n",
    "    # Load a pre-trained model fine-tuned for sentence simplification\n",
    "    tokenizer = AutoTokenizer.from_pretrained(\"google/flan-t5-large\")\n",
    "    model = AutoModelForSeq2SeqLM.from_pretrained(\"google/flan-t5-large\")\n",
    "\n",
    "    simplified_sentences = []\n",
    "    for sentence in sentences:\n",
    "        inputs = tokenizer(f\"Simplify this sentence: {sentence}\", return_tensors=\"pt\", max_length=256, truncation=True)\n",
    "        outputs = model.generate(inputs.input_ids, max_length=128, num_beams=5, early_stopping=True)\n",
    "        simplified_sentence = tokenizer.decode(outputs[0], skip_special_tokens=True)\n",
    "        simplified_sentences.append(simplified_sentence)\n",
    "    \n",
    "    return simplified_sentences\n",
    "\n",
    "def simlify_text(sentences):\n",
    "    # Load model directly\n",
    "    tokenizer = AutoTokenizer.from_pretrained(\"liamcripwell/pgdyn-simp\")\n",
    "    model = AutoModelForSeq2SeqLM.from_pretrained(\"liamcripwell/pgdyn-simp\")\n",
    "\n",
    "    simplified_sentences = []\n",
    "    for sentence in sentences:\n",
    "        # Tokenize the input sentence\n",
    "        inputs = tokenizer.encode(sentence, return_tensors=\"pt\", truncation=True)\n",
    "        \n",
    "        # Generate simplified text\n",
    "        outputs = model.generate(inputs, max_length=1024, num_beams=5, early_stopping=True)\n",
    "        \n",
    "        # Decode the output tokens to a string\n",
    "        simplified_text = tokenizer.decode(outputs[0], skip_special_tokens=True)\n",
    "        simplified_sentences.append(simplified_text)\n",
    "        \n",
    "    return \" \".join(simplified_sentences)\n",
    "\n",
    "\n",
    "# # Step 4: Simplify the Entire Text Using SimpleWiki and SciNews Dataset\n",
    "# def simplify_text_with_gpt(sentences):\n",
    "#     simplified_paragraphs = []\n",
    "    \n",
    "#     for sentence in sentences:\n",
    "#         # GPT prompt for further simplification\n",
    "#         prompt = (\n",
    "#             f\"Here is a scientific sentence: \\\"{sentence}\\\". \"\n",
    "#             \"Rewrite it as if explaining to a non-expert audience, keeping it simple and engaging.\"\n",
    "#         )\n",
    "        \n",
    "#         response = openai.ChatCompletion.create(\n",
    "#             model=\"gpt-4\",\n",
    "#             messages=[\n",
    "#                 {\"role\": \"system\", \"content\": \"You are an expert at simplifying scientific content.\"},\n",
    "#                 {\"role\": \"user\", \"content\": prompt},\n",
    "#             ],\n",
    "#             max_tokens=150,\n",
    "#         )\n",
    "#         simplified_text = response['choices'][0]['message']['content'].strip()\n",
    "#         simplified_paragraphs.append(simplified_text)\n",
    "    \n",
    "#     return \" \".join(simplified_paragraphs)\n",
    "\n",
    "# Main Pipeline\n",
    "def simplify_scientific_article(article_text):\n",
    "    \n",
    "    # Step 1: Tokenize text into sentences and words\n",
    "    sentences, _ = tokenize_text(article_text)\n",
    "    # Step 2: Simplify words based on context\n",
    "    word_simplified_words = simplify_words(sentences)\n",
    "    print(\" \".join(word_simplified_words))\n",
    "    # Step 3: Simplify sentences using a good model\n",
    "    sentence_simplified_sentences = simplify_sentences(word_simplified_words)\n",
    "    print(\" \".join(sentence_simplified_sentences))\n",
    "    # # Step 4: Simplify the entire text for non-expert audiences using GPT-4\n",
    "    # final_simplified_text = simplify_text_with_gpt(sentence_simplified_sentences)\n",
    "    final_simplified_text = simlify_text(sentence_simplified_sentences)\n",
    "    return final_simplified_text\n"
   ]
  },
  {
   "cell_type": "code",
   "execution_count": 27,
   "metadata": {},
   "outputs": [
    {
     "name": "stdout",
     "output_type": "stream",
     "text": [
      "CUDA available: False\n",
      "CUDA version: None\n",
      "Device name: No GPU detected\n"
     ]
    }
   ],
   "source": [
    "import torch\n",
    "print(\"CUDA available:\", torch.cuda.is_available())\n",
    "print(\"CUDA version:\", torch.version.cuda)\n",
    "print(\"Device name:\", torch.cuda.get_device_name(0) if torch.cuda.is_available() else \"No GPU detected\")\n"
   ]
  },
  {
   "cell_type": "code",
   "execution_count": null,
   "metadata": {},
   "outputs": [],
   "source": [
    "# Input scientific article text\n",
    "scientific_text = \"\"\"\n",
    "The experiment demonstrates that utilizing a controlled magnetic field can enhance the efficiency of ion propulsion in spacecraft, achieving velocities previously unattainable. \n",
    "This novel approach may revolutionize interplanetary travel by significantly reducing fuel requirements.\n",
    "\"\"\"\n",
    "\n",
    "# Simplify the article\n",
    "simplified_article = simplify_scientific_article(scientific_text)\n",
    "print(\"Simplified Article:\\n\", simplified_article)\n",
    "\n",
    "# Simplify no pipeline\n",
    "sentences, _ = tokenize_text(scientific_text)\n",
    "simplified_article2 = simlify_text(sentences)\n",
    "print(simplified_article2)"
   ]
  },
  {
   "cell_type": "code",
   "execution_count": 96,
   "metadata": {},
   "outputs": [
    {
     "name": "stdout",
     "output_type": "stream",
     "text": [
      "One of the most powerful techniques for studying the function of a gene is to disrupt the expression of that gene using genetic engineering strategies such as targeted recombination or viral integration of gene trap cassettes. The tremendous utility of these tools was recognized this year with the awarding of the Nobel Prize in Physiology or Medicine to Capecchi, Evans, and Smithies for their pioneering work in targeted recombination mutagenesis in mammals. Another noteworthy discovery made nearly a decade ago was the identification of a novel class of noncoding genes called microRNAs. MicroRNAs are among the largest known classes of regulatory elements with more than 1000 predicted to exist in the mouse genome. Over 50% of known microRNAs are located within introns of coding genes. Given that currently about half of the genes in mouse have been knocked out, we investigated the possibility that intronic microRNAs may have been coincidentally deleted or disrupted in some of these mouse models. We searched published murine knockout studies and gene trap embryonic stem cell line databases for cases where a microRNA was located within or near the manipulated genomic loci, finding almost 200 cases where microRNA expression may have been disrupted along with another gene. Our results draw attention to the need for careful planning in future knockout studies to minimize the unintentional disruption of microRNAs. These data also raise the possibility that many knockout studies may need to be reexamined to determine if loss of a microRNA contributes to the phenotypic consequences attributed to loss of a proteinencoding gene. In the mouse, stable disruption of a gene is typically accomplished using gene trap mutagenesis or targeted homologous recombination. We wish to communicate the overlooked possibility of unintentionally disrupting microRNA (miRNA) genes along with a targeted gene. Because miRNAs play key roles in many cellular processes, the unintended ablation of these species may have significant consequences that complicate the interpretation of gene knockout studies. Given that many miRNAs are located within introns of longer coding transcripts, we reasoned that a gene trap disrupting a host gene could also alter miRNA expression in one of two ways. The trapping cassette could either ablate miRNA expression with a terminal polyadenylation sequence or overexpress an miRNA via an internal promoter. To determine the potential extent of these unintended changes in miRNA expression, we compared the genomic position of all mouse gene traps listed in the International Gene Trap Consortium (IGTC) to the loci of 367 annotated mouse miRNA genes as well as candidate miRNA genes computationally identified by Berezikov et al. , 28% of which have been validated to date. In the cases where an miRNA was located within an intron of a host gene, we identified any gene traps which inserted within the host gene transcript and upstream of the miRNA. Using the same set of annotated and candidate miRNAs, we next identified all proteincoding genes with an miRNA located within the transcribed loci in either the sense or the antisense orientation. We crossreferenced these genes with all homologous recombination studies listed in the Mouse Genome Informatics (MGI) database (v. 3. 54) to assemble a list of studies where the miRNA and coding gene were potentially coablated. The boundaries of the deleted loci were bioinformatically verified for each study. We analyze the IGTC database revealed 98 annotated or candidate miRNAs potentially misregulated in 420 gene trap cell lines. A study of the slit3 gene is an example of a potential unintended double knockout scenario produced from a gene trap cell line. To ablate slit3, the authors used a trap located upstream of exon 6, which produced a truncated slit3 mRNA. Mir2182 is located within intron 14 of slit3, and the potential loss of mir2182 expression may contribute to the phenotype resulting from the loss of functional slit3. The analysis of the MGI database yielded a small but significant number of studies where miRNAs may have been unintentionally disrupted. In addition to 20 studies where an annotated or candidate miRNA was completely ablated by the targeting strategy , there were also numerous studies describing the deletion of regions immediately upstream (78 cases) or downstream (55 cases) of a miRNA , or in the promoter of the host gene (4 cases). MiRNAs have been shown to be transcribed in conjunction with a host transcript or from an independent promoter. Therefore, the disruption of host promoters or of regions adjacent to miRNAs may compromise promoter and/or enhancer sites for these miRNAs. While 71 of the studies in our analysis were published prior to the expansion of the miRNA field in 2002, the fact that 90 were published since may indicate that miRNAs in targeted loci continue to be overlooked. To avoid inadvertent double knockout scenarios, we wish to alert investigators to consider noncoding elements in the locus to be deleted. Because not all noncoding elements have been annotated, it may be preferable to employ methods that minimize the deletion of endogenous DNA. We also wish to raise the interesting possibility that a number of studies may need to be reevaluated to dissociate the consequences of ablating an miRNA from the consequences of ablating the targeted gene.\n",
      "One of the most powerful techniques for studying the function of a gene is to disrupt the expression of that gene using genetic engineering strategies such as targeted recombination or viral integration of gene trap cassettes The tremendous utility of these tools was recognized this year with the awarding of the Nobel Prize in Physiology or Medicine to Capecchi, Evans, and Smithies for their pioneering work in targeted recombination mutagenesis in mammals Another noteworthy discovery made nearly a decade ago was the identification of a novel class of noncoding genes called microRNAs. MicroRNAs are among the largest known classes of regulatory elements with more than 1000 predicted to exist in the mouse genome. Over 50% of known microRNAs are located within introns of coding genes. Given that about half of the genes in mouse have been knocked out, we investigated the possibility that intronic microRNAs may have been coincidentally deleted or disrupted in some of these mouse models. We searched published murine knockout studies and gene trap embryonic stem cell line databases for cases where a microRNA was located within or near the manipulated genomic loci, finding almost 200 cases where microRNA expression may have been disrupted along with another gene. Our results draw attention to the need for careful planning in future knockout studies to minimize the unintentional disruption of microRNAs. These data also raise the possibility that many knockout studies may need to be reexamined to determine if loss of a microRNA contributes to the phenotypic consequences attributed to loss of a proteinencoding gene. In the mouse, stable disruption of a gene is typically accomplished using gene trap mutagenesis or targeted homologous recombination. We wish to communicate the overlooked possibility of unintentionally disrupting microRNA (miRNA) genes along with a targeted gene. Because miRNAs play key roles in many cellular processes, the unintended ablation of these species may have significant consequences that complicate the interpretation of gene knockout studies. Given that many miRNAs are located within introns of longer coding transcripts, we reasoned that a gene trap disrupting a host gene could also alter miRNA expression in one of two ways. The trapping cassette could either ablate miRNA expression with a terminal polyadenylation sequence or overexpress an miRNA via an internal promoter. To determine the extent of these unintended changes in miRNA expression, we compared the genomic position of all mouse gene traps listed in the International Gene Trap Consortium (IGTC) to the loci of 367 annotated mouse miRNA genes as well as candidate miRNA genes computationally identified by Berezikov et al. 28% of which have been validated to date. In the cases where miRNA was located within an intron of a host gene, we identified any gene traps which inserted within the host gene transcript and upstream of the miRNA. Using the same set of annotated and candidate miRNAs, we next identified all proteincoding genes with an miRNA located within the transcribed loci in either the sense or the antisense orientation. We crossreferenced these genes with all homologous recombination studies listed in the Mouse Genome Informatics (MGI) database (v. 3. 54) to assemble a list of studies where the miRNA and coding gene were potentially coablated. The boundaries of the deleted loci were bioinformatically verified for each study. We analyze the IGTC database revealed 98 annotated or candidate miRNAs potentially misregulated in 420 gene trap cell lines. A study of the Slit3 gene is an example of a potential unintended double knockout scenario produced from a gene trap cell line. To ablate slit3, authors used a trap located upstream of exon 6, which produced a truncated slit3 mRNA. Mir2182 is located within intron 14 of Slit3, and the potential loss of mir2182 expression may contribute to the phenotype resulting from the loss of functional Slit3. The MGI database yielded a small but significant number of studies where miRNAs may have been unintentionally disrupted. In addition to 20 studies where an annotated or candidate miRNA was completely ablated by the targeting strategy, there were also numerous studies describing the deletion of regions immediately upstream (78 cases) or downstream (55 cases) of a miRNA , or in the promoter of the host gene (4 cases). MiRNAs have been shown to be transcribed in conjunction with a host transcript or from an independent promoter. Therefore, the disruption of host promoters or of regions adjacent to miRNAs may compromise promoter and/or enhancer sites for these miRNAs. While 71 of the studies in our analysis were published prior to the expansion of the miRNA field in 2002, the fact that 90 were published since may indicate that miRNAs in targeted loci continue to be overlooked. To avoid inadvertent double knockout scenarios, we wish to alert investigators to consider noncoding elements in the locus to be deleted. Because not all noncoding elements have been annotated, it may be preferable to employ methods that minimize the deletion of endogenous DNA. We also wish to raise the interesting possibility that a number of studies may need to be reevaluated to dissociate the consequences of ablating an miRNA from the consequences of ablating the targeted gene.\n",
      "Simplified Article:\n",
      "  One of the most powerful ways for studying the working of a gene is to stop the expression of that gene.  This year, the Nobel Prize in Physiology or Medicine was given to Capecchi, Evans, and Smithies for their pioneering work in targeted recombination in mammals.  Another important discovery made nearly 10 years ago was the discovery of a new class of noncoding genes.  There are more than 1000 predicted to exist in the mouse genome.  More than half of these genes are located within computer coding genes.  Many of the genes in mouse have been knocked out.  We have searched for cases where a microhet was located within or near a loci, or biological community.  Our results draw attention to the need for careful planning in future studies to minimize the accidental disruption of micropronAs.  Future studies may need to be reexamined to determine if loss of a microrecord helps to cause other problems.  In the mouse, changing a gene usually happens using a gene trap or targeted homologous recombination.  They want to show how tiny micropronounced micro fingerprints can cause disease.  It could also make it harder for scientists to look into how genes developed.  Scientists thought that a gene trap could also changemi fingerprints.  They could either test the trapping bacteria with a terminal sequence or use an Ali sequence.  Scientists compared the position of all mouse gene traps to the location of Malaysian genes.  28 percent of them have been validated to date.  Scientists found any gene traps that were inserted within the host gene.  Scientists did the same thing with the same set of Fish genes.  We crossreferenced these genes with all studies listed in the Mouse Genome Informatics (MGI) database.  They put together a list of studies where themi fingerprints and coding gene could be coablated.  The boundaries of the loci were changed for each study.  Ultimately, it revealed that 98 owners of fires could have been affected by 420 gene trap cell lines.  The study of the Slit3 gene is an example of a possible unintended double knockout scenario.  The scientists used a trap located upstream of exon 6.  gladiology is located within the walls of Slit3.  Many studies may have been disrupted.  There were also numerous studies describing how the regions were filled with different chemicals.  They have been shown to be transcribed — that is, they have been released from a person's computer or from a promoter.  The addition of host promoters or of regions next tomiathedAs may cause problems for the policewoman sites.  The fact that 90 were published since may show that scientists continue to be overlooked.  To avoid that, we want to alert investigators to consider noncoding elements to be collected.  Not all noncoding elements have been intentionallyated, so it may be possible to use methods that don't destroy DNA.  Scientists also want to raise the interesting possibility that a number of studies may need to be reevaluated.\n",
      " One of the most powerful ways for studying the working of a gene is to stop the expression of that gene.  This year, the Nobel Prize in Physiology or Medicine was given to Capecchi, Evans, and Smithies for their work in targeted recombination in mammals.  Another important discovery made nearly 10 years ago was the discovery of a new class of noncoding genes.  There are more than 1000 predicted to exist in the mouse genome.  More than half of these genes are located within computer coding genes.  Scientists are now looking into the possibility that these micro Diplomas may have been accidentally added to some of the mouse models.  We have searched for cases where a microhet was located within or near a loci, or biological community.  Our results draw attention to the need for careful planning in future studies to minimize the accidental disruption of micropronAs.  Future studies may need to be reexamined to determine if loss of a microrecord helps to cause other problems.  In the mouse, changing a gene usually happens using a gene trap or targeted homologous recombination.  They want to show how tiny micropronounced micro fingerprints can cause disease.  It could also make it harder for scientists to look into how genes developed.  Scientists thought that a gene trap could also changemi fingerprints.  They could either test the trapping bacteria with a terminal sequence or use an Ali sequence.  Scientists wanted to see if it was possible to make those changes unintended.  28 percent of them have been validated to date.  In the cases where an overhead gene was located, we identified any gene traps that were inserted within the host gene.  Scientists did the same thing with the same set of volunteers.  We crossreferenced these genes with all studies listed in the Mouse Genome Informatics (MGI) database.  They put together a list of studies where themi fingerprints and coding gene could be coablated.  The boundaries of the loci were changed for each study.  Our study revealed that 98 prisoners could have been affected by 420 gene trap cell lines.  The study of the slit3 gene is an example of what could happen if a gene was produced from a cell line.  The authors used a trap located upstream of exon 6, which produced a short cuttlefish.  It is located within intron 14 of slit3.  Many of the studies were small, but important.  There were also numerous studies describing how the regions were filled with different chemicals.  They have been shown to be transcribed — that is, they have been released from a person's computer or from a promoter.  The loss of host promoters or of regions nearby may cause problems for the sites where thesemi tags are planted.  The fact that 90 were published since may show that scientists continue to be overlooked.  To avoid running into problems, we want to alert investigators to consider noncoding elements to beeda.  Not all noncoding elements have been intentionallyated, so it may be possible to use methods that don't destroy DNA.  Scientists also want to raise the interesting possibility that a number of studies may need to be reevaluated.\n"
     ]
    }
   ],
   "source": [
    "scientific_text = cleaned_dataset['train']['article'][14737]\n",
    "references_text = cleaned_dataset['train']['summary'][14737]\n",
    "# Simplify the article\n",
    "simplified_article = simplify_scientific_article(scientific_text)\n",
    "print(\"Simplified Article:\\n\", simplified_article)\n",
    "# Simplify no pipeline\n",
    "sentences, _ = tokenize_text(scientific_text)\n",
    "simplified_article2 = simlify_text(sentences)\n",
    "print(simplified_article2)\n"
   ]
  },
  {
   "cell_type": "markdown",
   "metadata": {},
   "source": [
    "explain metrics:\n",
    "BLEU: 0: No n-gram matches between the candidate and the reference.\n",
    "      1: Perfect match between the candidate and the reference.\n",
    "      0.1 - 0.6: Typically seen in machine-generated texts. A higher score means better quality, but values depend on the task and how many references are available.\n",
    "SARI: SARI score ranges from 0 to 1.\n",
    "      0 means the simplification was poor, with a lot of added complexity or unnecessary changes.\n",
    "      1 means the simplification was ideal, retaining meaning and improving readability without unnecessary deletions or additions.\n",
    "FKGL: 1-5: Text is very easy to read, suited for young children.\n",
    "      6-8: Easy to read, suitable for middle school students.\n",
    "      9-12: Suitable for high school students.\n",
    "      13-16: Complex text, for college students.\n",
    "      17+: Very complex, suitable for graduate-level readers or specialists in a field.\n",
    "BERTscore: 1.0: Perfect match between candidate and reference (high semantic similarity).\n",
    "           0.5 - 0.9: Good similarity, but may still miss some semantic elements or have slight differences.\n",
    "           0.0 - 0.4: Low similarity, indicating significant differences in meaning.\n"
   ]
  },
  {
   "cell_type": "code",
   "execution_count": 97,
   "metadata": {},
   "outputs": [
    {
     "name": "stdout",
     "output_type": "stream",
     "text": [
      "Input Sentences: ['One of the most powerful techniques for studying the function of a gene is to disrupt the expression of that gene using genetic engineering strategies such as targeted recombination or viral integration of gene trap cassettes.', 'The tremendous utility of these tools was recognized this year with the awarding of the Nobel Prize in Physiology or Medicine to Capecchi, Evans, and Smithies for their pioneering work in targeted recombination mutagenesis in mammals.', 'Another noteworthy discovery made nearly a decade ago was the identification of a novel class of noncoding genes called microRNAs.', 'MicroRNAs are among the largest known classes of regulatory elements with more than 1000 predicted to exist in the mouse genome.', 'Over 50% of known microRNAs are located within introns of coding genes.', 'Given that currently about half of the genes in mouse have been knocked out, we investigated the possibility that intronic microRNAs may have been coincidentally deleted or disrupted in some of these mouse models.', 'We searched published murine knockout studies and gene trap embryonic stem cell line databases for cases where a microRNA was located within or near the manipulated genomic loci, finding almost 200 cases where microRNA expression may have been disrupted along with another gene.', 'Our results draw attention to the need for careful planning in future knockout studies to minimize the unintentional disruption of microRNAs.', 'These data also raise the possibility that many knockout studies may need to be reexamined to determine if loss of a microRNA contributes to the phenotypic consequences attributed to loss of a proteinencoding gene.', 'In the mouse, stable disruption of a gene is typically accomplished using gene trap mutagenesis or targeted homologous recombination.', 'We wish to communicate the overlooked possibility of unintentionally disrupting microRNA (miRNA) genes along with a targeted gene.', 'Because miRNAs play key roles in many cellular processes, the unintended ablation of these species may have significant consequences that complicate the interpretation of gene knockout studies.', 'Given that many miRNAs are located within introns of longer coding transcripts, we reasoned that a gene trap disrupting a host gene could also alter miRNA expression in one of two ways.', 'The trapping cassette could either ablate miRNA expression with a terminal polyadenylation sequence or overexpress an miRNA via an internal promoter.', 'To determine the potential extent of these unintended changes in miRNA expression, we compared the genomic position all mouse gene traps listed in the International Gene Trap Consortium (IGTC) to the loci of 367 annotated mouse miRNA genes as well as candidate miRNA genes computationally identified by Berezikov et al.', ', 28% of which have been validated to date.', 'In the cases where an miRNA was located within an intron of a host gene, we identified any gene traps which inserted within the host gene transcript and upstream of the miRNA.', 'Using the same set of annotated and candidate miRNAs, we next identified all proteincoding genes with an miRNA located within the transcribed loci, in either the sense or the antisense orientation.', 'We crossreferenced these genes with all homologous recombination studies listed in the Mouse Genome Informatics (MGI) database (v. 3.', '54) to assemble a list of studies where the miRNA and coding gene were potentially coablated.', 'The boundaries of the deleted loci were bioinformatically verified for each study.', 'Our analysis of the IGTC database revealed 98 annotated or candidate miRNAs potentially misregulated in 420 gene trap cell lines.', 'A study of the slit3 gene is an example of a potential unintended doubleknockout scenario produced from a gene trap cell line.', 'To ablate slit3, the authors used a trap located upstream of exon 6, which produced a truncated slit3 mRNA.', 'Mir2182 is located within intron 14 of slit3, and the potential loss of mir2182 expression may contribute to the phenotype resulting from the loss of functional slit3.', 'The analysis of the MGI database yielded a small but significant number of studies where miRNAs may have been unintentionally disrupted.', 'In addition to 20 studies where an annotated or candidate miRNA was completely ablated by the targeting strategy , there were also numerous studies describing the deletion of regions immediately upstream (78 cases) or downstream (55 cases) of a miRNA , or in the promoter of the host gene (4 cases).', 'MiRNAs have been shown to be transcribed in conjunction with a host transcript or from an independent promoter.', 'Therefore, the disruption of host promoters or of regions adjacent to miRNAs may compromise promoter andor enhancer sites for these miRNAs.', 'While 71 of the studies in our analysis were published prior to the expansion of the miRNA field in 2002, the fact that 90 were published since may indicate that miRNAs in targeted loci continue to be overlooked.', 'To avoid inadvertent doubleknockout scenarios, we wish to alert investigators to consider noncoding elements in the locus to be deleted.', 'Because not all noncoding elements have been annotated, it may be preferable to employ methods that minimize the deletion of endogenous DNA.', 'We also wish to raise the interesting possibility that a number of studies may need to be reevaluated to dissociate the consequences of ablating an miRNA from the consequences of ablating the targeted gene.']\n",
      "Reference Sentences: ['To determine the function of a gene, it is often informative to first disrupt the expression of that gene through targeted recombination or the insertion of gene trap cassettes.', 'In our study, we point out that these approaches may be confounded by the presence of small non-coding elements known as microRNAs.', 'MicroRNAs constitute one of the largest classes of regulatory elements, and over 50% of known microRNAs have been identified within an intron of a coding gene.', 'Disruption of a gene could therefore also result in the disruption of microRNAs in the region.', 'In this study, we searched databases of gene-trapped cell lines as well as previously published knockout studies and report almost 200 examples where microRNA expression may have been unintentionally disrupted.', 'Our results are of broad interest and importance because they raise the possibility that a number of protein function studies may need to be reexamined to determine whether the loss of a microRNA may have contributed to the phenotype previously attributed to the loss of a protein.']\n",
      "Output 1 Sentences: [' One of the most powerful ways for studying the working of a gene is to stop the expression of that gene.', 'This year, the Nobel Prize in Physiology or Medicine was given to Capecchi, Evans, and Smithies for their pioneering work in targeted recombination in mammals.', 'Another important discovery made nearly 10 years ago was the discovery of a new class of noncoding genes.', 'There are more than 1000 predicted to exist in the mouse genome.', 'More than half of these genes are located within computer coding genes.', 'Many of the genes in mouse have been knocked out.', 'We have searched for cases where a microhet was located within or near a loci, or biological community.', 'Our results draw attention to the need for careful planning in future studies to minimize the accidental disruption of micropronAs.', 'Future studies may need to be reexamined to determine if loss of a microrecord helps to cause other problems.', 'In the mouse, changing a gene usually happens using a gene trap or targeted homologous recombination.', 'They want to show how tiny micropronounced micro fingerprints can cause disease.', 'It could also make it harder for scientists to look into how genes developed.', 'Scientists thought that a gene trap could also changemi fingerprints.', 'They could either test the trapping bacteria with a terminal sequence or use an Ali sequence.', 'Scientists compared the position of all mouse gene traps to the location of Malaysian genes.', '28 percent of them have been validated to date.', 'Scientists found any gene traps that were inserted within the host gene.', 'Scientists did the same thing with the same set of Fish genes.', 'We crossreferenced these genes with all studies listed in the Mouse Genome Informatics (MGI) database.', 'They put together a list of studies where themi fingerprints and coding gene could be coablated.', 'The boundaries of the loci were changed for each study.', 'Ultimately, it revealed that 98 owners of fires could have been affected by 420 gene trap cell lines.', 'The study of the Slit3 gene is an example of a possible unintended double knockout scenario.', 'The scientists used a trap located upstream of exon 6.  gladiology is located within the walls of Slit3.', 'Many studies may have been disrupted.', 'There were also numerous studies describing how the regions were filled with different chemicals.', \"They have been shown to be transcribed — that is, they have been released from a person's computer or from a promoter.\", 'The addition of host promoters or of regions next tomiathedAs may cause problems for the policewoman sites.', 'The fact that 90 were published since may show that scientists continue to be overlooked.', 'To avoid that, we want to alert investigators to consider noncoding elements to be collected.', \"Not all noncoding elements have been intentionallyated, so it may be possible to use methods that don't destroy DNA.\", 'Scientists also want to raise the interesting possibility that a number of studies may need to be reevaluated.']\n",
      "Output 2 Sentences: [' One of the most powerful ways for studying the working of a gene is to stop the expression of that gene.', 'This year, the Nobel Prize in Physiology or Medicine was given to Capecchi, Evans, and Smithies for their work in targeted recombination in mammals.', 'Another important discovery made nearly 10 years ago was the discovery of a new class of noncoding genes.', 'There are more than 1000 predicted to exist in the mouse genome.', 'More than half of these genes are located within computer coding genes.', 'Scientists are now looking into the possibility that these micro Diplomas may have been accidentally added to some of the mouse models.', 'We have searched for cases where a microhet was located within or near a loci, or biological community.', 'Our results draw attention to the need for careful planning in future studies to minimize the accidental disruption of micropronAs.', 'Future studies may need to be reexamined to determine if loss of a microrecord helps to cause other problems.', 'In the mouse, changing a gene usually happens using a gene trap or targeted homologous recombination.', 'They want to show how tiny micropronounced micro fingerprints can cause disease.', 'It could also make it harder for scientists to look into how genes developed.', 'Scientists thought that a gene trap could also changemi fingerprints.', 'They could either test the trapping bacteria with a terminal sequence or use an Ali sequence.', 'Scientists wanted to see if it was possible to make those changes unintended.', '28 percent of them have been validated to date.', 'In the cases where an overhead gene was located, we identified any gene traps that were inserted within the host gene.', 'Scientists did the same thing with the same set of volunteers.', 'We crossreferenced these genes with all studies listed in the Mouse Genome Informatics (MGI) database.', 'They put together a list of studies where themi fingerprints and coding gene could be coablated.', 'The boundaries of the loci were changed for each study.', 'Our study revealed that 98 prisoners could have been affected by 420 gene trap cell lines.', 'The study of the slit3 gene is an example of what could happen if a gene was produced from a cell line.', 'The authors used a trap located upstream of exon 6, which produced a short cuttlefish.', 'It is located within intron 14 of slit3.', 'Many of the studies were small, but important.', 'There were also numerous studies describing how the regions were filled with different chemicals.', \"They have been shown to be transcribed — that is, they have been released from a person's computer or from a promoter.\", 'The loss of host promoters or of regions nearby may cause problems for the sites where thesemi tags are planted.', 'The fact that 90 were published since may show that scientists continue to be overlooked.', 'To avoid running into problems, we want to alert investigators to consider noncoding elements to beeda.', \"Not all noncoding elements have been intentionallyated, so it may be possible to use methods that don't destroy DNA.\", 'Scientists also want to raise the interesting possibility that a number of studies may need to be reevaluated.']\n",
      "BLEU score1: 17.45429144379944\n",
      "BLEU score2: 23.06766371591717\n",
      "FKGL score1: 7.9\n",
      "FKGL score2: 8.3\n",
      "ROUGE-1 (unigrams): Score(precision=0.23828920570264767, recall=0.6802325581395349, fmeasure=0.35294117647058826)\n",
      "ROUGE-2 (bigrams): Score(precision=0.08979591836734693, recall=0.2573099415204678, fmeasure=0.13313161875945537)\n",
      "ROUGE-L (longest common subsequence): Score(precision=0.12627291242362526, recall=0.36046511627906974, fmeasure=0.1870286576168929)\n",
      "ROUGE-1 (unigrams): Score(precision=0.22753346080305928, recall=0.6918604651162791, fmeasure=0.3424460431654676)\n",
      "ROUGE-2 (bigrams): Score(precision=0.09195402298850575, recall=0.2807017543859649, fmeasure=0.13852813852813853)\n",
      "ROUGE-L (longest common subsequence): Score(precision=0.1147227533460803, recall=0.3488372093023256, fmeasure=0.17266187050359713)\n"
     ]
    }
   ],
   "source": [
    "# Tokenizing the sentences for original and simplified texts\n",
    "input_sentences, _ = tokenize_text(scientific_text)\n",
    "reference_sentences, _ = tokenize_text(references_text)\n",
    "output1_sentences, _ = tokenize_text(simplified_article)\n",
    "output2_sentences, _ = tokenize_text(simplified_article2)\n",
    "\n",
    "print(\"Input Sentences:\", input_sentences)\n",
    "print(\"Reference Sentences:\", reference_sentences)\n",
    "print(\"Output 1 Sentences:\", output1_sentences)\n",
    "print(\"Output 2 Sentences:\", output2_sentences)\n",
    "\n",
    "# Calculate BLEU (sentence-level)\n",
    "bleu_score1 = sacrebleu.corpus_bleu(output1_sentences, [input_sentences]).score\n",
    "bleu_score2 = sacrebleu.corpus_bleu(output2_sentences, [input_sentences]).score\n",
    "print(f\"BLEU score1: {bleu_score1}\")\n",
    "print(f\"BLEU score2: {bleu_score2}\")\n",
    "\n",
    "\n",
    "# # Calculate SARI (sentence-level comparison) needs to be with the same amount of sentences!\n",
    "# sari_score1 = corpus_sari(orig_sents=input_sentences, sys_sents=output1_sentences, refs_sents=[reference_sentences])\n",
    "# sari_score2 = corpus_sari(orig_sents=input_sentences, sys_sents=output2_sentences, refs_sents=[reference_sentences])\n",
    "# print(f\"SARI score1: {sari_score1}\")\n",
    "# print(f\"SARI score2: {sari_score2}\")\n",
    "\n",
    "\n",
    "# Calculate FKGL score\n",
    "fkgl_score1 = textstat.flesch_kincaid_grade(simplified_article)\n",
    "fkgl_score2 = textstat.flesch_kincaid_grade(simplified_article2)\n",
    "\n",
    "print(f\"FKGL score1: {fkgl_score1}\")\n",
    "print(f\"FKGL score2: {fkgl_score2}\")\n",
    "\n",
    "\n",
    "# # Calculate BERTScore needs to be with the same amount of sentences!\n",
    "# P1, R1, F1_1 = score(output1_sentences, reference_sentences, lang=\"en\", rescale_with_baseline=True)\n",
    "# P2, R2, F1_2 = score(output2_sentences, reference_sentences, lang=\"en\", rescale_with_baseline=True)\n",
    "# print(f\"BERTScore (F1)1: {F1_1.mean().item()}\")\n",
    "# print(f\"BERTScore (F1)2: {F1_2.mean().item()}\")\n",
    "\n",
    "\n",
    "# Initialize the ROUGE scorer\n",
    "scorer = rouge_scorer.RougeScorer(['rouge1', 'rouge2', 'rougeL'], use_stemmer=True)\n",
    "\n",
    "# Compute ROUGE scores\n",
    "scores = scorer.score(\" \".join(reference_sentences),\" \".join(output1_sentences) )\n",
    "\n",
    "# Print the scores\n",
    "print(\"ROUGE-1 (unigrams):\", scores['rouge1'])\n",
    "print(\"ROUGE-2 (bigrams):\", scores['rouge2'])\n",
    "print(\"ROUGE-L (longest common subsequence):\", scores['rougeL'])\n",
    "\n",
    "# Compute ROUGE scores\n",
    "scores = scorer.score(\" \".join(reference_sentences),\" \".join(output2_sentences) )\n",
    "\n",
    "# Print the scores\n",
    "print(\"ROUGE-1 (unigrams):\", scores['rouge1'])\n",
    "print(\"ROUGE-2 (bigrams):\", scores['rouge2'])\n",
    "print(\"ROUGE-L (longest common subsequence):\", scores['rougeL'])"
   ]
  },
  {
   "cell_type": "code",
   "execution_count": 99,
   "metadata": {},
   "outputs": [
    {
     "name": "stdout",
     "output_type": "stream",
     "text": [
      "2968\n",
      "3122\n",
      "5407\n"
     ]
    }
   ],
   "source": [
    "print(len(simplified_article))\n",
    "print(len(simplified_article2))\n",
    "print(len(scientific_text))"
   ]
  },
  {
   "cell_type": "code",
   "execution_count": 100,
   "metadata": {},
   "outputs": [
    {
     "data": {
      "text/plain": [
       "\" One of the most powerful ways for studying the working of a gene is to stop the expression of that gene.  This year, the Nobel Prize in Physiology or Medicine was given to Capecchi, Evans, and Smithies for their pioneering work in targeted recombination in mammals.  Another important discovery made nearly 10 years ago was the discovery of a new class of noncoding genes.  There are more than 1000 predicted to exist in the mouse genome.  More than half of these genes are located within computer coding genes.  Many of the genes in mouse have been knocked out.  We have searched for cases where a microhet was located within or near a loci, or biological community.  Our results draw attention to the need for careful planning in future studies to minimize the accidental disruption of micropronAs.  Future studies may need to be reexamined to determine if loss of a microrecord helps to cause other problems.  In the mouse, changing a gene usually happens using a gene trap or targeted homologous recombination.  They want to show how tiny micropronounced micro fingerprints can cause disease.  It could also make it harder for scientists to look into how genes developed.  Scientists thought that a gene trap could also changemi fingerprints.  They could either test the trapping bacteria with a terminal sequence or use an Ali sequence.  Scientists compared the position of all mouse gene traps to the location of Malaysian genes.  28 percent of them have been validated to date.  Scientists found any gene traps that were inserted within the host gene.  Scientists did the same thing with the same set of Fish genes.  We crossreferenced these genes with all studies listed in the Mouse Genome Informatics (MGI) database.  They put together a list of studies where themi fingerprints and coding gene could be coablated.  The boundaries of the loci were changed for each study.  Ultimately, it revealed that 98 owners of fires could have been affected by 420 gene trap cell lines.  The study of the Slit3 gene is an example of a possible unintended double knockout scenario.  The scientists used a trap located upstream of exon 6.  gladiology is located within the walls of Slit3.  Many studies may have been disrupted.  There were also numerous studies describing how the regions were filled with different chemicals.  They have been shown to be transcribed — that is, they have been released from a person's computer or from a promoter.  The addition of host promoters or of regions next tomiathedAs may cause problems for the policewoman sites.  The fact that 90 were published since may show that scientists continue to be overlooked.  To avoid that, we want to alert investigators to consider noncoding elements to be collected.  Not all noncoding elements have been intentionallyated, so it may be possible to use methods that don't destroy DNA.  Scientists also want to raise the interesting possibility that a number of studies may need to be reevaluated.\""
      ]
     },
     "execution_count": 100,
     "metadata": {},
     "output_type": "execute_result"
    }
   ],
   "source": [
    "simplified_article"
   ]
  },
  {
   "cell_type": "code",
   "execution_count": 1,
   "metadata": {},
   "outputs": [
    {
     "name": "stderr",
     "output_type": "stream",
     "text": [
      "c:\\jonatan\\Academy\\Final Project\\models\\.venv\\Lib\\site-packages\\tqdm\\auto.py:21: TqdmWarning: IProgress not found. Please update jupyter and ipywidgets. See https://ipywidgets.readthedocs.io/en/stable/user_install.html\n",
      "  from .autonotebook import tqdm as notebook_tqdm\n",
      "Some weights of PegasusForConditionalGeneration were not initialized from the model checkpoint at google/pegasus-xsum and are newly initialized: ['model.decoder.embed_positions.weight', 'model.encoder.embed_positions.weight']\n",
      "You should probably TRAIN this model on a down-stream task to be able to use it for predictions and inference.\n",
      "Device set to use cuda:0\n"
     ]
    },
    {
     "ename": "NameError",
     "evalue": "name 'simplified_article' is not defined",
     "output_type": "error",
     "traceback": [
      "\u001b[1;31m---------------------------------------------------------------------------\u001b[0m",
      "\u001b[1;31mNameError\u001b[0m                                 Traceback (most recent call last)",
      "Cell \u001b[1;32mIn[1], line 14\u001b[0m\n\u001b[0;32m     11\u001b[0m     headline \u001b[38;5;241m=\u001b[39m create_headline(simplified_text)\n\u001b[0;32m     12\u001b[0m     \u001b[38;5;28;01mreturn\u001b[39;00m \u001b[38;5;124mf\u001b[39m\u001b[38;5;124m\"\u001b[39m\u001b[38;5;124mHEADLINE: \u001b[39m\u001b[38;5;132;01m{\u001b[39;00mheadline\u001b[38;5;132;01m}\u001b[39;00m\u001b[38;5;130;01m\\n\u001b[39;00m\u001b[38;5;130;01m\\n\u001b[39;00m\u001b[38;5;132;01m{\u001b[39;00msimplified_text\u001b[38;5;132;01m}\u001b[39;00m\u001b[38;5;124m\"\u001b[39m\n\u001b[1;32m---> 14\u001b[0m \u001b[38;5;28mprint\u001b[39m(structure_as_newspaper(\u001b[43msimplified_article\u001b[49m))\n",
      "\u001b[1;31mNameError\u001b[0m: name 'simplified_article' is not defined"
     ]
    }
   ],
   "source": [
    "from transformers import pipeline\n",
    "\n",
    "# Load a summarization pipeline\n",
    "summarizer = pipeline(\"summarization\", model=\"google/pegasus-xsum\")\n",
    "\n",
    "def create_headline(text):\n",
    "    summary = summarizer(text, max_length=20, min_length=5, do_sample=False)\n",
    "    return summary[0]['summary_text']\n",
    "\n",
    "def structure_as_newspaper(simplified_text):\n",
    "    headline = create_headline(simplified_text)\n",
    "    return f\"HEADLINE: {headline}\\n\\n{simplified_text}\"\n",
    "\n",
    "print(structure_as_newspaper(simplified_article))"
   ]
  },
  {
   "cell_type": "code",
   "execution_count": 1,
   "metadata": {},
   "outputs": [
    {
     "ename": "ModuleNotFoundError",
     "evalue": "No module named 'cv2'",
     "output_type": "error",
     "traceback": [
      "\u001b[1;31m---------------------------------------------------------------------------\u001b[0m",
      "\u001b[1;31mModuleNotFoundError\u001b[0m                       Traceback (most recent call last)",
      "Cell \u001b[1;32mIn[1], line 1\u001b[0m\n\u001b[1;32m----> 1\u001b[0m \u001b[38;5;28;01mimport\u001b[39;00m \u001b[38;5;21;01mcv2\u001b[39;00m\n\u001b[0;32m      3\u001b[0m cap \u001b[38;5;241m=\u001b[39m cv2\u001b[38;5;241m.\u001b[39mVideoCapture(\u001b[38;5;241m0\u001b[39m)\n\u001b[0;32m      5\u001b[0m \u001b[38;5;66;03m# Check if the camera is opened successfully\u001b[39;00m\n",
      "\u001b[1;31mModuleNotFoundError\u001b[0m: No module named 'cv2'"
     ]
    }
   ],
   "source": [
    "import cv2\n",
    "\n",
    "cap = cv2.VideoCapture(0)\n",
    "\n",
    "# Check if the camera is opened successfully\n",
    "if not cap.isOpened():\n",
    "    print(\"Error: Could not open webcam.\")\n",
    "    exit()\n",
    "\n",
    "# Set a known working resolution (e.g., 640x480)\n",
    "cap.set(cv2.CAP_PROP_FRAME_WIDTH, 640)\n",
    "cap.set(cv2.CAP_PROP_FRAME_HEIGHT, 480)\n",
    "\n",
    "while True:\n",
    "    ret, frame = cap.read()\n",
    "    \n",
    "    if not ret:\n",
    "        print(\"Error: Failed to grab frame.\")\n",
    "        break\n",
    "\n",
    "    cv2.imshow('Webcam Feed', frame)\n",
    "\n",
    "    # Exit the loop on pressing 'q'\n",
    "    if cv2.waitKey(1) & 0xFF == ord('q'):\n",
    "        break\n",
    "\n",
    "cap.release()\n",
    "cv2.destroyAllWindows()\n"
   ]
  }
 ],
 "metadata": {
  "kernelspec": {
   "display_name": ".venv",
   "language": "python",
   "name": "python3"
  },
  "language_info": {
   "codemirror_mode": {
    "name": "ipython",
    "version": 3
   },
   "file_extension": ".py",
   "mimetype": "text/x-python",
   "name": "python",
   "nbconvert_exporter": "python",
   "pygments_lexer": "ipython3",
   "version": "3.11.9"
  }
 },
 "nbformat": 4,
 "nbformat_minor": 2
}
